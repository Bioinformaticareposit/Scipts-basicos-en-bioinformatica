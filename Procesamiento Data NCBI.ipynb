{
 "cells": [
  {
   "cell_type": "markdown",
   "id": "3266d583",
   "metadata": {},
   "source": [
    "## Obteniendo datos de NCBI por ENTREZ"
   ]
  },
  {
   "cell_type": "code",
   "execution_count": 2,
   "id": "90526b2e",
   "metadata": {},
   "outputs": [],
   "source": [
    "from Bio import Entrez, SeqIO\n",
    "Entrez.email = \"ale.403@hotmail.com\""
   ]
  },
  {
   "cell_type": "code",
   "execution_count": 3,
   "id": "2a9b13eb",
   "metadata": {},
   "outputs": [
    {
     "name": "stdout",
     "output_type": "stream",
     "text": [
      "{'DbList': ['pubmed', 'protein', 'nuccore', 'ipg', 'nucleotide', 'structure', 'genome', 'annotinfo', 'assembly', 'bioproject', 'biosample', 'blastdbinfo', 'books', 'cdd', 'clinvar', 'gap', 'gapplus', 'grasp', 'dbvar', 'gene', 'gds', 'geoprofiles', 'homologene', 'medgen', 'mesh', 'nlmcatalog', 'omim', 'orgtrack', 'pmc', 'popset', 'proteinclusters', 'pcassay', 'protfam', 'pccompound', 'pcsubstance', 'seqannot', 'snp', 'sra', 'taxonomy', 'biocollections', 'gtr']}\n"
     ]
    }
   ],
   "source": [
    "bases_datos = Entrez.einfo()\n",
    "rec = Entrez.read(bases_datos)\n",
    "bases_datos.close\n",
    "print(rec)"
   ]
  },
  {
   "cell_type": "markdown",
   "id": "6dda08ce",
   "metadata": {},
   "source": [
    "## Buscando una secuencia de un Gen especifico en la DB (NM_118319) ATG8A / APG8A"
   ]
  },
  {
   "cell_type": "code",
   "execution_count": 5,
   "id": "ad068ada",
   "metadata": {},
   "outputs": [
    {
     "data": {
      "text/plain": [
       "'5'"
      ]
     },
     "execution_count": 5,
     "metadata": {},
     "output_type": "execute_result"
    }
   ],
   "source": [
    "busqueda = Entrez.esearch(db=\"nucleotide\", term='APG8A[Gene Name] AND \"Arabidopsis thaliana\"[Organism]', retmax=\"40\")\n",
    "#esearch se le asigna los diferentes parametros de buscqueda que deseamos incluir\n",
    "#DB - base de datos \n",
    "rec_list = Entrez.read(busqueda)\n",
    "busqueda.close()\n",
    "rec_list['Count']"
   ]
  },
  {
   "cell_type": "markdown",
   "id": "8d972cc1",
   "metadata": {},
   "source": [
    "### rec_list es un objeto de tipo Bio.Entrez.Parser.ListElement, que es una clase de la biblioteca Biopython.\n",
    "\n",
    "Esta clase tiene los siguientes atributos:\n",
    "\n",
    "    *IdList: Una lista de identificadores de secuencia (como los identificadores de acceso GenBank) para las secuencias que se han recuperado como resultado de la búsqueda.\n",
    "\n",
    "    *TranslationSet: Una lista de objetos de traducción para cada secuencia recuperada.\n",
    "\n",
    "    *RetMax: El número máximo de resultados que se solicitaron en la búsqueda.\n",
    "\n",
    "    *RetStart: El número de resultado en el que comienza la lista de resultados devueltos.\n",
    "\n",
    "    *QueryTranslation: La cadena de búsqueda utilizada en la búsqueda.\n",
    "\n",
    "    *Db: La base de datos en la que se realizó la búsqueda.\n",
    "\n",
    "    *WebEnv: El entorno web que se utilizó para la búsqueda."
   ]
  },
  {
   "cell_type": "code",
   "execution_count": 7,
   "id": "a07ad545",
   "metadata": {},
   "outputs": [
    {
     "data": {
      "text/plain": [
       "['1063724158', '240256243', '145333682', '332656411', '21636955']"
      ]
     },
     "execution_count": 7,
     "metadata": {},
     "output_type": "execute_result"
    }
   ],
   "source": [
    "rec_list[\"IdList\"]"
   ]
  },
  {
   "cell_type": "code",
   "execution_count": 11,
   "id": "5a8ce681",
   "metadata": {},
   "outputs": [
    {
     "data": {
      "text/plain": [
       "Seq('ACGAATTCCAAGTGGTTTACTTATTCCAGAAACAGTTCCGTGTAGGCAACCATT...TTC')"
      ]
     },
     "execution_count": 11,
     "metadata": {},
     "output_type": "execute_result"
    }
   ],
   "source": [
    "#descargamaos la iformacion de estos primeros 40 registros para ver si la secuencia que buscamos se encuentra aca\n",
    "lista_id = rec_list[\"IdList\"]\n",
    "archivo = Entrez.efetch(db='nucleotide', id=\"NM_118319\", rettype='gb')\n",
    "recs = list(SeqIO.parse(archivo, 'gb')) #gb es el formato, la transformamos y guardamos en una lista, para no tener que andar consultando al server por cada uno de los identificadores\n",
    "archivo.close()# Cerramos la conexion\n",
    "\n",
    "recs[0].seq"
   ]
  }
 ],
 "metadata": {
  "kernelspec": {
   "display_name": "Python 3 (ipykernel)",
   "language": "python",
   "name": "python3"
  },
  "language_info": {
   "codemirror_mode": {
    "name": "ipython",
    "version": 3
   },
   "file_extension": ".py",
   "mimetype": "text/x-python",
   "name": "python",
   "nbconvert_exporter": "python",
   "pygments_lexer": "ipython3",
   "version": "3.9.12"
  }
 },
 "nbformat": 4,
 "nbformat_minor": 5
}
