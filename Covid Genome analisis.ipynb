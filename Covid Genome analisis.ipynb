{
 "cells": [
  {
   "cell_type": "markdown",
   "id": "6125d813",
   "metadata": {},
   "source": [
    "# Análsiis de la secuencia genomica de COVID-19 // Primer paciente con Covid secuenciado en China"
   ]
  },
  {
   "cell_type": "code",
   "execution_count": 2,
   "id": "ae97ed5a",
   "metadata": {},
   "outputs": [],
   "source": [
    "from Bio import Entrez, SeqIO\n",
    "Entrez.email = \"alejandro.enet1991@gmail.com\"\n",
    "handle = Entrez.efetch(db=\"nucleotide\", id = \"MN908947\", rettype = \"gb\",  retmode=\"text\")\n",
    "recs = list(SeqIO.parse(handle,\"gb\"))\n",
    "handle.close()"
   ]
  },
  {
   "cell_type": "code",
   "execution_count": 3,
   "id": "925d3bf6",
   "metadata": {},
   "outputs": [
    {
     "data": {
      "text/plain": [
       "[SeqRecord(seq=Seq('ATTAAAGGTTTATACCTTCCCAGGTAACAAACCAACCAACTTTCGATCTCTTGT...AAA'), id='MN908947.3', name='MN908947', description='Severe acute respiratory syndrome coronavirus 2 isolate Wuhan-Hu-1, complete genome', dbxrefs=[])]"
      ]
     },
     "execution_count": 3,
     "metadata": {},
     "output_type": "execute_result"
    }
   ],
   "source": [
    "recs"
   ]
  },
  {
   "cell_type": "code",
   "execution_count": 4,
   "id": "2475e37e",
   "metadata": {},
   "outputs": [
    {
     "name": "stdout",
     "output_type": "stream",
     "text": [
      "El genmoma del Covid-19 consisten en 29903 nucleótidos\n"
     ]
    }
   ],
   "source": [
    "covid_sequence = recs[0].seq\n",
    "len(covid_sequence)\n",
    "print(f\"El genmoma del Covid-19 consisten en {len(covid_sequence)} nucleótidos\")"
   ]
  },
  {
   "cell_type": "code",
   "execution_count": 5,
   "id": "697f8de2",
   "metadata": {},
   "outputs": [
    {
     "name": "stdout",
     "output_type": "stream",
     "text": [
      "El peso molecular del genoma del Covid-19 es de 9241219.214400413\n"
     ]
    }
   ],
   "source": [
    "from Bio.SeqUtils import molecular_weight\n",
    "molecular_weight(covid_sequence)\n",
    "print(f\"El peso molecular del genoma del Covid-19 es de {molecular_weight(covid_sequence)}\")"
   ]
  },
  {
   "cell_type": "code",
   "execution_count": 6,
   "id": "de25f5cf",
   "metadata": {},
   "outputs": [
    {
     "name": "stdout",
     "output_type": "stream",
     "text": [
      "La proporcion de bases de GC en el genoma del Covid-19 es de 37.97277865097148%\n"
     ]
    },
    {
     "name": "stderr",
     "output_type": "stream",
     "text": [
      "C:\\Users\\Admin\\anaconda3\\lib\\site-packages\\Bio\\SeqUtils\\__init__.py:144: BiopythonDeprecationWarning: GC is deprecated; please use gc_fraction instead.\n",
      "  warnings.warn(\n"
     ]
    }
   ],
   "source": [
    "from Bio.SeqUtils import GC\n",
    "GC(covid_sequence)\n",
    "print(f\"La proporcion de bases de GC en el genoma del Covid-19 es de {GC(covid_sequence)}%\")"
   ]
  },
  {
   "cell_type": "code",
   "execution_count": 7,
   "id": "cbaf2de4",
   "metadata": {},
   "outputs": [
    {
     "name": "stderr",
     "output_type": "stream",
     "text": [
      "C:\\Users\\Admin\\anaconda3\\lib\\site-packages\\seaborn\\_decorators.py:36: FutureWarning: Pass the following variables as keyword args: x, y. From version 0.12, the only valid positional argument will be `data`, and passing other arguments without an explicit keyword will result in an error or misinterpretation.\n",
      "  warnings.warn(\n"
     ]
    },
    {
     "data": {
      "text/plain": [
       "<AxesSubplot:xlabel='nucleotidos', ylabel='valor'>"
      ]
     },
     "execution_count": 7,
     "metadata": {},
     "output_type": "execute_result"
    },
    {
     "data": {
      "image/png": "[encoded data removed]",
      "text/plain": [
       "<Figure size 432x288 with 1 Axes>"
      ]
     },
     "metadata": {
      "needs_background": "light"
     },
     "output_type": "display_data"
    }
   ],
   "source": [
    "# Se puede armar un diccionario para el conteo del número de bases\n",
    "\n",
    "import seaborn as sns\n",
    "import pandas as pd\n",
    "\n",
    "nucleotidos = {\"nucleotidos\": [\"A\",\"T\",\"G\",\"C\"], \"valor\": [covid_sequence.count(\"A\"),covid_sequence.count(\"T\"),covid_sequence.count(\"G\"),covid_sequence.count(\"C\")]}\n",
    "nucleotidos = pd.DataFrame(nucleotidos)\n",
    "\n",
    "nucleotidos\n",
    "\n",
    "sns.barplot(nucleotidos[\"nucleotidos\"],nucleotidos[\"valor\"])\n",
    "\n",
    "\n",
    "\n"
   ]
  },
  {
   "cell_type": "code",
   "execution_count": 8,
   "id": "7258dc31",
   "metadata": {},
   "outputs": [
    {
     "name": "stderr",
     "output_type": "stream",
     "text": [
      "C:\\Users\\Admin\\anaconda3\\lib\\site-packages\\Bio\\Seq.py:3482: BiopythonWarning: Partial codon, len(sequence) not a multiple of three. Explicitly trim the sequence or add trailing N before translation. This may become an error in future.\n",
      "  warnings.warn(\n"
     ]
    },
    {
     "data": {
      "text/plain": [
       "Seq('IKGLYLPR*QTNQLSISCRSVL*TNFKICVAVTRLHA*CTHAV*LITNYCR*QD...KKK')"
      ]
     },
     "execution_count": 8,
     "metadata": {},
     "output_type": "execute_result"
    }
   ],
   "source": [
    "# Se puede obtener la secuencia de ARN\n",
    "arn_covid = covid_sequence.transcribe()\n",
    "arn_covid\n",
    "# Se puede obtener la secuencia de aminoacidos\n",
    "amino_covid = covid_sequence.translate()\n",
    "amino_covid"
   ]
  },
  {
   "cell_type": "code",
   "execution_count": 9,
   "id": "a78642fc",
   "metadata": {},
   "outputs": [
    {
     "data": {
      "text/html": [
       "<div>\n",
       "<style scoped>\n",
       "    .dataframe tbody tr th:only-of-type {\n",
       "        vertical-align: middle;\n",
       "    }\n",
       "\n",
       "    .dataframe tbody tr th {\n",
       "        vertical-align: top;\n",
       "    }\n",
       "\n",
       "    .dataframe thead th {\n",
       "        text-align: right;\n",
       "    }\n",
       "</style>\n",
       "<table border=\"1\" class=\"dataframe\">\n",
       "  <thead>\n",
       "    <tr style=\"text-align: right;\">\n",
       "      <th></th>\n",
       "      <th>aminoacido</th>\n",
       "      <th>Frecuencia</th>\n",
       "    </tr>\n",
       "  </thead>\n",
       "  <tbody>\n",
       "    <tr>\n",
       "      <th>0</th>\n",
       "      <td>L</td>\n",
       "      <td>886</td>\n",
       "    </tr>\n",
       "    <tr>\n",
       "      <th>1</th>\n",
       "      <td>S</td>\n",
       "      <td>810</td>\n",
       "    </tr>\n",
       "    <tr>\n",
       "      <th>3</th>\n",
       "      <td>T</td>\n",
       "      <td>679</td>\n",
       "    </tr>\n",
       "    <tr>\n",
       "      <th>4</th>\n",
       "      <td>C</td>\n",
       "      <td>635</td>\n",
       "    </tr>\n",
       "    <tr>\n",
       "      <th>5</th>\n",
       "      <td>F</td>\n",
       "      <td>593</td>\n",
       "    </tr>\n",
       "    <tr>\n",
       "      <th>6</th>\n",
       "      <td>R</td>\n",
       "      <td>558</td>\n",
       "    </tr>\n",
       "    <tr>\n",
       "      <th>7</th>\n",
       "      <td>V</td>\n",
       "      <td>548</td>\n",
       "    </tr>\n",
       "    <tr>\n",
       "      <th>8</th>\n",
       "      <td>Y</td>\n",
       "      <td>505</td>\n",
       "    </tr>\n",
       "    <tr>\n",
       "      <th>9</th>\n",
       "      <td>N</td>\n",
       "      <td>472</td>\n",
       "    </tr>\n",
       "    <tr>\n",
       "      <th>10</th>\n",
       "      <td>I</td>\n",
       "      <td>436</td>\n",
       "    </tr>\n",
       "    <tr>\n",
       "      <th>11</th>\n",
       "      <td>K</td>\n",
       "      <td>413</td>\n",
       "    </tr>\n",
       "    <tr>\n",
       "      <th>12</th>\n",
       "      <td>G</td>\n",
       "      <td>394</td>\n",
       "    </tr>\n",
       "    <tr>\n",
       "      <th>13</th>\n",
       "      <td>A</td>\n",
       "      <td>375</td>\n",
       "    </tr>\n",
       "    <tr>\n",
       "      <th>14</th>\n",
       "      <td>H</td>\n",
       "      <td>332</td>\n",
       "    </tr>\n",
       "    <tr>\n",
       "      <th>15</th>\n",
       "      <td>Q</td>\n",
       "      <td>325</td>\n",
       "    </tr>\n",
       "    <tr>\n",
       "      <th>16</th>\n",
       "      <td>P</td>\n",
       "      <td>292</td>\n",
       "    </tr>\n",
       "    <tr>\n",
       "      <th>17</th>\n",
       "      <td>D</td>\n",
       "      <td>290</td>\n",
       "    </tr>\n",
       "    <tr>\n",
       "      <th>18</th>\n",
       "      <td>E</td>\n",
       "      <td>270</td>\n",
       "    </tr>\n",
       "    <tr>\n",
       "      <th>19</th>\n",
       "      <td>W</td>\n",
       "      <td>263</td>\n",
       "    </tr>\n",
       "    <tr>\n",
       "      <th>20</th>\n",
       "      <td>M</td>\n",
       "      <td>117</td>\n",
       "    </tr>\n",
       "  </tbody>\n",
       "</table>\n",
       "</div>"
      ],
      "text/plain": [
       "   aminoacido  Frecuencia\n",
       "0           L         886\n",
       "1           S         810\n",
       "3           T         679\n",
       "4           C         635\n",
       "5           F         593\n",
       "6           R         558\n",
       "7           V         548\n",
       "8           Y         505\n",
       "9           N         472\n",
       "10          I         436\n",
       "11          K         413\n",
       "12          G         394\n",
       "13          A         375\n",
       "14          H         332\n",
       "15          Q         325\n",
       "16          P         292\n",
       "17          D         290\n",
       "18          E         270\n",
       "19          W         263\n",
       "20          M         117"
      ]
     },
     "execution_count": 9,
     "metadata": {},
     "output_type": "execute_result"
    }
   ],
   "source": [
    "# Se puede buscar el aminoacido en mayor frecuencia o graficarlos en funcion de esto\n",
    "from collections import Counter\n",
    "aminoacidos = Counter(amino_covid)\n",
    "\n",
    "\n",
    "elementos = [{'aminoacido': k, 'Frecuencia': v} for k, v in aminoacidos.most_common()]\n",
    "\n",
    "# Crear un dataframe a partir de la lista de diccionarios\n",
    "df = pd.DataFrame(elementos)\n",
    "\n",
    "# eliminamos el stop\n",
    "mascara = df[\"aminoacido\"] == \"*\"\n",
    "filas_eliminar = df[mascara]\n",
    "df = df.drop(filas_eliminar.index)\n",
    "df\n"
   ]
  },
  {
   "cell_type": "code",
   "execution_count": 10,
   "id": "88912fdf",
   "metadata": {},
   "outputs": [
    {
     "name": "stderr",
     "output_type": "stream",
     "text": [
      "C:\\Users\\Admin\\anaconda3\\lib\\site-packages\\seaborn\\_decorators.py:36: FutureWarning: Pass the following variables as keyword args: x, y. From version 0.12, the only valid positional argument will be `data`, and passing other arguments without an explicit keyword will result in an error or misinterpretation.\n",
      "  warnings.warn(\n"
     ]
    },
    {
     "data": {
      "text/plain": [
       "<AxesSubplot:xlabel='Frecuencia', ylabel='aminoacido'>"
      ]
     },
     "execution_count": 10,
     "metadata": {},
     "output_type": "execute_result"
    },
    {
     "data": {
      "image/png": "[encoded data removed]",
      "text/plain": [
       "<Figure size 432x648 with 1 Axes>"
      ]
     },
     "metadata": {
      "needs_background": "light"
     },
     "output_type": "display_data"
    }
   ],
   "source": [
    "import matplotlib.pyplot as plt\n",
    "fig, ax = plt.subplots(figsize=(6, 9))\n",
    "sns.barplot(df[\"Frecuencia\"],df[\"aminoacido\"])"
   ]
  },
  {
   "cell_type": "code",
   "execution_count": 28,
   "id": "8586bf7a",
   "metadata": {},
   "outputs": [
    {
     "name": "stdout",
     "output_type": "stream",
     "text": [
      "El genoma de Covid-19 contiene  775 secuencias de aminoacidos\n",
      "Donde 80 codifican para proteínas de mas de 20 aa\n"
     ]
    },
    {
     "data": {
      "text/plain": [
       "[Seq('CTIVFKRVCGVSAARLTPCGTGTSTDVVYRAFDIYNDKVAGFAKFLKTNCCRFQ...VNN'),\n",
       " Seq('ASAQRSQITLHINELMDLFMRIFTIGTVTLKQGEIKDATPSDFVRATATIPIQA...VPL'),\n",
       " Seq('TNMKIILFLALITLATCELYHYQECVRGTTVLLKEPCSSGTYEGNSPFHPLADN...KTE'),\n",
       " Seq('AQADEYELMYSFVSEETGTLIVNSVLLFLAFVVFLLVTLAILTALRLCAYCCNI...LLV'),\n",
       " Seq('QQMFHLVDFQVTIAEILLIIMRTFKVSIWNLDYIINLIIKNLSKSLTENKYSQL...EID'),\n",
       " Seq('DGEPCPWFQRENTRPTQFACFTGSRRARTWLWRLRGGGLIRGTSTS'),\n",
       " Seq('TMLRCYFPKCSEKNNQGYTPLVVTHNFDFTFSFSPEYSMVFVLFFV'),\n",
       " Seq('DVVYTHWYWSGNNSYTGSQYGSRILWWCIVLSVLPLPHRSSKS'),\n",
       " Seq('LQTLAANCTICPQRFSVLRNVAHWHGSHTFGNVVDLHRCHQIG'),\n",
       " Seq('KSHHIFTEATRSTIECTVNNARESCLYGRALMCKINFSSAIPM'),\n",
       " Seq('FLWKGLSSYVLPSVSTSWCSLLACDLCPCTRKELHNCSCHLS'),\n",
       " Seq('LNCAWMRLVLNHPFSTSISVIIQFPVYLLQLIARNLNWVVL'),\n",
       " Seq('RNFVLHRRCFTYKVLRIQRSYYGCFLQRKQLHNNHKTSYL'),\n",
       " Seq('IQRRNWPTHASKSPKRNYLLRGRNTSHRSVNRGSCLENW'),\n",
       " Seq('YVYTTNSTYWCFGHISIYSSWWYCSYRSNMPCLLFYEV'),\n",
       " Seq('CFFFSTYSVDGYVHTFSTFLDNNCLYHLYFHKAFLLVL'),\n",
       " Seq('CGSATSLLLSDCLRVRVPCGHSIQKLTFFSTCHSMALF'),\n",
       " Seq('NSCYNATWLCNTWLKFGRSCSVYEISQSASYSFCFFT'),\n",
       " Seq('YFTIPYVIHCTLFNTSLLILTWCLFCYLLVLDILSY'),\n",
       " Seq('QSFQILSFTFNSGLVLTFLFQCYLVPCYTCLWDQWY'),\n",
       " Seq('NDCSIHFCTVSGYNHFWLDLWCRCCITNTICYANGL'),\n",
       " Seq('QCCNRATTSSRNNIAKRLLRRREQRRQSSLFSFLIT'),\n",
       " Seq('QDTSNSSIFCRLLTVSSVLQPIISTSRFRPGVTER'),\n",
       " Seq('NASESFEKSANRQLYNHLPGSGFKWLHCRGGKDSA'),\n",
       " Seq('HTRTSFCSNWNCRFRYVCFIKRITAKWYEWTYHIG'),\n",
       " Seq('VCSHSTRTDFFSVSLLQWFTIWCLPMCYEAQFHY'),\n",
       " Seq('CTQQHYQQCKRWLCSLEHNTSYNSSQTNGCHTRL'),\n",
       " Seq('CYWQNSRLTFFHSKCTWKTSRCGQPKCTSFKHAC'),\n",
       " Seq('AVYKMAMVHLARFYSWLDCHSNGDNYALLYDQLL'),\n",
       " Seq('EARNSWNCFLEFARNACTCRRNTQINACLCGN'),\n",
       " Seq('TDKYYNLVFTIKCLPRFFNLLNRCFRCFNV'),\n",
       " Seq('YTSVYNASLLFLRLFLYLLLWPLLFTQPLL'),\n",
       " Seq('DAVTSRTCLKKSLLLHHERFLITNWELRSV'),\n",
       " Seq('SIQCNTSFRQTWSRTNPRKFWGPGTNQTRN'),\n",
       " Seq('QSLPIDCCSHNKRSGFCRAWFAWHDITHN'),\n",
       " Seq('NCSKFCACFTEGRYNNTRWNFTVFTETH'),\n",
       " Seq('RIICKISVCLLQSAYVSTYTVTRSGISV'),\n",
       " Seq('TEINTESSLCICIRGCSCCTINFLPHS'),\n",
       " Seq('LNSGLNSCRPHKADGLYKRFRFSVYDI'),\n",
       " Seq('RDRHYFGIFFCFHKCFCGNCERFGL'),\n",
       " Seq('NERSQSKMVFLLPRNWARSWTSLWC'),\n",
       " Seq('HLQWGMSKFCISLKFHNQDYSTKG'),\n",
       " Seq('PPHASCGHVNDIWTTVWSNLFGWS'),\n",
       " Seq('LCLFLLHAPYGITNWSSCWHRLRR'),\n",
       " Seq('CFSLVVRCCYKWRQVVSQSIYHNS'),\n",
       " Seq('NVRCKVHISSLTLSFATTQSRIII'),\n",
       " Seq('LHRSPCCYSCRSTYSYLACLFYRF'),\n",
       " Seq('MQQSFVAIWQFLYTIKPCFNWNSC'),\n",
       " Seq('LCLLSFGSHLNCKIIMKLVTPKRT'),\n",
       " Seq('RNNELLVSTCQFRFLQKSLERGV'),\n",
       " Seq('TSYKISSTTGVTFCYDVSTTCSV'),\n",
       " Seq('VFLCTWIGCNHAIVFQLFCSTFY'),\n",
       " Seq('TCKECVLRQCLIYFYFSSSARVC'),\n",
       " Seq('KCLFTFCYGYYCYVCFCNDVCQT'),\n",
       " Seq('AKRLCYVCISCSVTNPYDSKNCV'),\n",
       " Seq('CYHRNSTSVYDQDISRLYNVHLW'),\n",
       " Seq('VSYSLHGFVFYNLPMPTGIGFCI'),\n",
       " Seq('NSSLTAETEETANCDSSSCCRFG'),\n",
       " Seq('DTWCPCPSCGRNTSGLPQGSSS'),\n",
       " Seq('NVHLLCIILLCMEKLCACCRRL'),\n",
       " Seq('SYTCVPFCCCYFLFNNTCSCHV'),\n",
       " Seq('KNGFTTFCFAFHAGCCRHKQAL'),\n",
       " Seq('PSLRNKVYVEILHCRKRNLSNF'),\n",
       " Seq('PWQIPTVLLPLKSLKSSLNNGT'),\n",
       " Seq('WTPKSAKCTPHYVWWTLRFNWQ'),\n",
       " Seq('TALCVHQTFGCSNCTSWSCYG'),\n",
       " Seq('QSSCNGLHYRWCCSVDFAVAN'),\n",
       " Seq('YDGNKQYLHTQRRCTNKGYFW'),\n",
       " Seq('PYTFFKSLCRYCSHKCLLSCL'),\n",
       " Seq('WFRFFRHLSFFRNYTNYHFIF'),\n",
       " Seq('CNRSACQFNCIIFLCFCCRCC'),\n",
       " Seq('HNKRLDFWYYFRFEDPVPTYC'),\n",
       " Seq('TRQKHPRSFCTSQTNLQNTTN'),\n",
       " Seq('FKNYRRGWPHRSNGCLCRQF'),\n",
       " Seq('MGFNCFWLSCRVVFGIYSFH'),\n",
       " Seq('LLRCSYNCHVFGQRYCFYVC'),\n",
       " Seq('WYNIYLCISIVGNPTGCRCR'),\n",
       " Seq('FSMASYCNSFKGQFCCQITE'),\n",
       " Seq('RHQICICLCLEQEENQQLCC'),\n",
       " Seq('PEWRTQWGAIKTTSAPRFTQ')]"
      ]
     },
     "execution_count": 28,
     "metadata": {},
     "output_type": "execute_result"
    }
   ],
   "source": [
    "#Podemos obtner una lista de secuencias de proteinas considernado las secuencias entre stopcodons\n",
    "amino_covid\n",
    "lista_secuencia_amiinoacidos = amino_covid.split(\"*\")\n",
    "len(lista_secuencia_amiinoacidos)\n",
    "print(f\"El genoma de Covid-19 contiene  {len(lista_secuencia_amiinoacidos)} secuencias de aminoacidos\")\n",
    "#Considerando de que las proteínas con funcionalidad deberian tener mas de 20 aminoacidos\n",
    "\n",
    "proteinas = list()\n",
    "\n",
    "for secuencia in lista_secuencia_amiinoacidos:\n",
    "    if len(secuencia) >= 20:\n",
    "        proteina = secuencia\n",
    "        proteinas.append(proteina)\n",
    "        \n",
    "proteinas\n",
    "print(f\"Donde {len(proteinas)} codifican para proteínas de mas de 20 aa\")\n",
    "proteinas = sorted(proteinas, key= len, reverse=True)\n",
    "proteinas\n"
   ]
  },
  {
   "cell_type": "code",
   "execution_count": 29,
   "id": "2172b9c4",
   "metadata": {},
   "outputs": [],
   "source": [
    "# Guardamos las secuencias en formato fasta\n",
    "\n",
    "with open(\"protein_seq.fasta\", \"w\") as file:\n",
    "    file.write(\">covid protein sequences\\n\")\n",
    "    for proteina in proteinas:\n",
    "        file.write(f\"{proteina}\\n\")"
   ]
  }
 ],
 "metadata": {
  "kernelspec": {
   "display_name": "Python 3 (ipykernel)",
   "language": "python",
   "name": "python3"
  },
  "language_info": {
   "codemirror_mode": {
    "name": "ipython",
    "version": 3
   },
   "file_extension": ".py",
   "mimetype": "text/x-python",
   "name": "python",
   "nbconvert_exporter": "python",
   "pygments_lexer": "ipython3",
   "version": "3.9.12"
  }
 },
 "nbformat": 4,
 "nbformat_minor": 5
}
