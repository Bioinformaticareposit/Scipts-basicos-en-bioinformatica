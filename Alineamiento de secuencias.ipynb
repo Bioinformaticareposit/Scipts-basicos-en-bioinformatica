{
 "cells": [
  {
   "cell_type": "markdown",
   "id": "3f9d5332",
   "metadata": {},
   "source": [
    "# Alineamiento de secuencias\n",
    "## Global\n",
    "En el largo de toda la secuencia, mide el grado de similitud entre ambas\n",
    "## Local\n",
    "Busca zonas de similitud"
   ]
  },
  {
   "cell_type": "code",
   "execution_count": 3,
   "id": "a80c37dc",
   "metadata": {},
   "outputs": [
    {
     "name": "stdout",
     "output_type": "stream",
     "text": [
      "ACCGGT\n",
      "| | ||\n",
      "A-C-GT\n",
      "  Score=4\n",
      "\n",
      "ACCGGT\n",
      "||  ||\n",
      "AC--GT\n",
      "  Score=4\n",
      "\n",
      "ACCGGT\n",
      "| || |\n",
      "A-CG-T\n",
      "  Score=4\n",
      "\n",
      "ACCGGT\n",
      "|| | |\n",
      "AC-G-T\n",
      "  Score=4\n",
      "\n"
     ]
    }
   ],
   "source": [
    "# Alineamiento global\n",
    "from Bio import pairwise2\n",
    "alineamientos = pairwise2.align.globalxx(\"ACCGGT\",\"ACGT\")\n",
    "\n",
    "for alineamiento in alineamientos:\n",
    "    print(pairwise2.format_alignment(*alineamiento))\n",
    "\n",
    "# No se penaliza por la presencia de gaps ni por el numero de mismatch\n",
    "# Da la combinacion que tiene mayor Score, como no hay penalty todas estas tienen \n",
    "#el mismo puntaje"
   ]
  },
  {
   "cell_type": "code",
   "execution_count": 4,
   "id": "5706eeae",
   "metadata": {},
   "outputs": [
    {
     "name": "stdout",
     "output_type": "stream",
     "text": [
      "ACCGGT\n",
      "| | ||\n",
      "A-C-GT\n",
      "  Score=8\n",
      "\n",
      "ACCGGT\n",
      "||  ||\n",
      "AC--GT\n",
      "  Score=8\n",
      "\n",
      "ACCGGT\n",
      "| || |\n",
      "A-CG-T\n",
      "  Score=8\n",
      "\n",
      "ACCGGT\n",
      "|| | |\n",
      "AC-G-T\n",
      "  Score=8\n",
      "\n"
     ]
    }
   ],
   "source": [
    "from Bio import pairwise2\n",
    "alineamientos = pairwise2.align.globalmx(\"ACCGGT\",\"ACGT\",match =2,mismatch = -1)\n",
    "\n",
    "for alineamiento in alineamientos:\n",
    "    print(pairwise2.format_alignment(*alineamiento))"
   ]
  },
  {
   "cell_type": "code",
   "execution_count": 7,
   "id": "19bb13db",
   "metadata": {},
   "outputs": [
    {
     "name": "stdout",
     "output_type": "stream",
     "text": [
      "ACCGGT\n",
      "||  ||\n",
      "AC--GT\n",
      "  Score=1\n",
      "\n"
     ]
    }
   ],
   "source": [
    "from Bio import pairwise2\n",
    "alineamientos = pairwise2.align.globalxs(\"ACCGGT\",\"ACGT\",open =-2, extend = -1)\n",
    "\n",
    "for alineamiento in alineamientos:\n",
    "    print(pairwise2.format_alignment(*alineamiento))"
   ]
  },
  {
   "cell_type": "markdown",
   "id": "338228c2",
   "metadata": {},
   "source": [
    "# Alineamiento de proteínas"
   ]
  },
  {
   "cell_type": "code",
   "execution_count": 8,
   "id": "0bce449c",
   "metadata": {},
   "outputs": [
    {
     "name": "stdout",
     "output_type": "stream",
     "text": [
      "KEVLA\n",
      " ||| \n",
      "-EVL-\n",
      "  Score=13\n",
      "\n"
     ]
    }
   ],
   "source": [
    "# globaldx - matching/mismatching scores read from blosum62 matrix, no gap penalty\n",
    "from Bio.Align import substitution_matrices\n",
    "matrix = substitution_matrices.load(\"BLOSUM62\") #metodo de scorig de similitud\n",
    "alignments = pairwise2.align.globaldx(\"KEVLA\", \"EVL\", match_dict=matrix)\n",
    "for alignment in alignments:\n",
    "    print(pairwise2.format_alignment(*alignment))"
   ]
  },
  {
   "cell_type": "markdown",
   "id": "2791d754",
   "metadata": {},
   "source": [
    "BLOSUM62 es una matriz de puntuación utilizada en bioinformática para evaluar la similitud de aminoácidos en secuencias proteicas. La matriz se utiliza comúnmente en algoritmos de alineamiento de secuencias proteicas para determinar la probabilidad de que dos aminoácidos diferentes evolucionaron a partir de un ancestro común.\n",
    "\n",
    "BLOSUM62 fue desarrollada por Henikoff y Henikoff en 1992 y se basa en la observación de cómo los aminoácidos cambian en secuencias proteicas homólogas a lo largo del tiempo. La matriz asigna puntuaciones a parejas de aminoácidos en función de la frecuencia con la que aparecen juntos en secuencias homólogas en la base de datos de proteínas. Las puntuaciones más altas se asignan a parejas de aminoácidos que son más propensos a evolucionar juntos y las puntuaciones más bajas se asignan a parejas de aminoácidos que son menos propensos a evolucionar juntos."
   ]
  },
  {
   "cell_type": "markdown",
   "id": "d1e82144",
   "metadata": {},
   "source": [
    "# Definiendo funciones para el puntaje de los gaps"
   ]
  },
  {
   "cell_type": "code",
   "execution_count": 11,
   "id": "4149c707",
   "metadata": {},
   "outputs": [
    {
     "name": "stdout",
     "output_type": "stream",
     "text": [
      "ACCCCCGT\n",
      "|    || \n",
      "A----CG-\n",
      "  Score=9.30685\n",
      "\n",
      "ACCCCCGT\n",
      "||    | \n",
      "AC----G-\n",
      "  Score=9.30685\n",
      "\n"
     ]
    }
   ],
   "source": [
    "# globalmc - matches score 5, mismatches -4, gap penalty defined through function gap_function\n",
    "from math import log\n",
    "def gap_function(x, y):  # x is gap position in seq, y is gap length\n",
    "     if y == 0:  # No gap\n",
    "        return 0\n",
    "     elif y == 1:  # Gap open penalty\n",
    "        return -2\n",
    "     return - (2 + y/4.0 + log(y)/2.0)\n",
    "\n",
    "alignments = pairwise2.align.globalmc(\"ACCCCCGT\", \"ACG\", match=5, mismatch=-4,\n",
    "                                     gap_A_fn=gap_function, gap_B_fn=gap_function)\n",
    "for alignment in alignments:\n",
    "    print(pairwise2.format_alignment(*alignment))"
   ]
  }
 ],
 "metadata": {
  "kernelspec": {
   "display_name": "Python 3 (ipykernel)",
   "language": "python",
   "name": "python3"
  },
  "language_info": {
   "codemirror_mode": {
    "name": "ipython",
    "version": 3
   },
   "file_extension": ".py",
   "mimetype": "text/x-python",
   "name": "python",
   "nbconvert_exporter": "python",
   "pygments_lexer": "ipython3",
   "version": "3.9.12"
  }
 },
 "nbformat": 4,
 "nbformat_minor": 5
}
